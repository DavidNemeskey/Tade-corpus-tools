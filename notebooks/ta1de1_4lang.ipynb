{
 "cells": [
  {
   "cell_type": "markdown",
   "metadata": {},
   "source": [
    "### ta1de1 'n 4lang"
   ]
  },
  {
   "cell_type": "markdown",
   "metadata": {},
   "source": [
    "This notebook will contain experiments on finding clusters of verbs with similar frame patterns in ta1de1 and matching patterns of concepts in their 4lang meaning representations"
   ]
  },
  {
   "cell_type": "markdown",
   "metadata": {},
   "source": [
    "__ta1de1__ (or tádé) is a database of Hungarian verbs containing statistics on the arguments they occur with in a large webcorpus. More info available [here](http://hlt.bme.hu/en/resources/tade)"
   ]
  },
  {
   "cell_type": "markdown",
   "metadata": {},
   "source": [
    "__4lang__ is a formalism for representing meaning, and software for building such meaning representations from text and from dictionary definitions of words (to acquire the definition of words). More info [here](http://hlt.bme.hu/en/projects/4lang)"
   ]
  },
  {
   "cell_type": "markdown",
   "metadata": {},
   "source": [
    "### Prerequisites"
   ]
  },
  {
   "cell_type": "markdown",
   "metadata": {},
   "source": [
    "- install 4lang by cloning [this](http://github.com/kornai/4lang) repo and following instructions in its README\n",
    "- [download](http://people.mokk.bme.hu/~recski/4lang/graphs/longman_firsts.pickle) the latest definition graphs for English, built from entries in the Longman Dictionary\n",
    "- [download](http://people.mokk.bme.hu/~recski/verb_clusters/tade.tsv) the ta1de1 data"
   ]
  },
  {
   "cell_type": "markdown",
   "metadata": {},
   "source": []
  },
  {
   "cell_type": "code",
   "execution_count": 7,
   "metadata": {
    "collapsed": false
   },
   "outputs": [],
   "source": [
    "from fourlang.lexicon import Lexicon\n",
    "\n",
    "lexicon = Lexicon.load_from_binary('longman_firsts.pickle')"
   ]
  },
  {
   "cell_type": "code",
   "execution_count": null,
   "metadata": {
    "collapsed": true
   },
   "outputs": [],
   "source": []
  }
 ],
 "metadata": {
  "kernelspec": {
   "display_name": "Python 2",
   "language": "python",
   "name": "python2"
  },
  "language_info": {
   "codemirror_mode": {
    "name": "ipython",
    "version": 2
   },
   "file_extension": ".py",
   "mimetype": "text/x-python",
   "name": "python",
   "nbconvert_exporter": "python",
   "pygments_lexer": "ipython2",
   "version": "2.7.3rc2"
  }
 },
 "nbformat": 4,
 "nbformat_minor": 0
}
