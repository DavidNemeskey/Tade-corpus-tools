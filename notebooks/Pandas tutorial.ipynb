{
 "cells": [
  {
   "cell_type": "markdown",
   "metadata": {
    "collapsed": true
   },
   "source": [
    "# About this notebook\n",
    "\n",
    "This notebook is a quick tutorial into the [Pandas](http://pandas.pydata.org/) library. It was written for the [2016 Construction grammar course](http://budling.hu/elmnyelv/index.php/Constructions2016) at the [Department of Theoretical Linguistics](http://www.nytud.hu/tlp/index.html). Its main aim is to provide easier access to the [Tádé korpusz](http://hlt.bme.hu/hu/resources/tade), on which most of the experiments in the course are based.\n",
    "\n",
    "# How to start the notebook\n",
    "\n",
    "(Fork and) Get the [repository from GitHub](https://github.com/DavidNemeskey/Tade-corpus-tools), enter into the notebooks directory, then run\n",
    "```\n",
    "jupyter notebook\n",
    "```\n",
    "You will see the list of all notebooks in the directory (and below). Just click on the one you want to load.\n",
    "\n",
    "# Pandas tutorial\n",
    "\n",
    "So this is the actual tutorial part. We shall work on a small table in the same format as the [Tádé korpusz](http://hlt.bme.hu/hu/resources/tade). The experiment skeleton loads the actual corpus.\n",
    "\n",
    "The code below is how one usually initializes a notebook."
   ]
  },
  {
   "cell_type": "code",
   "execution_count": 80,
   "metadata": {
    "collapsed": false
   },
   "outputs": [],
   "source": [
    "import pandas as pd\n",
    "# So that plots work correctly\n",
    "%matplotlib inline   \n",
    "\n",
    "import matplotlib\n",
    "import numpy as np"
   ]
  },
  {
   "cell_type": "markdown",
   "metadata": {},
   "source": [
    "## A short introduction to Pandas concepts\n",
    "\n",
    "### DataFrame\n",
    "\n",
    "A `DataFrame` is a table that (in this case) stores the Tádé data. We can read a table from file (see the skeleton), but here we will create one manually and then display its contents. There are two ways to do it:\n",
    "\n",
    "1. use the regular Python `print()` function; same output as in a terminal\n",
    "1. just specify the object you want to print as the **last command in the cell**, and the notebook will display it as nice HTML"
   ]
  },
  {
   "cell_type": "code",
   "execution_count": 81,
   "metadata": {
    "collapsed": false
   },
   "outputs": [
    {
     "ename": "SyntaxError",
     "evalue": "Missing parentheses in call to 'print' (<ipython-input-81-574215cc3a69>, line 9)",
     "output_type": "error",
     "traceback": [
      "\u001b[1;36m  File \u001b[1;32m\"<ipython-input-81-574215cc3a69>\"\u001b[1;36m, line \u001b[1;32m9\u001b[0m\n\u001b[1;33m    print df\u001b[0m\n\u001b[1;37m           ^\u001b[0m\n\u001b[1;31mSyntaxError\u001b[0m\u001b[1;31m:\u001b[0m Missing parentheses in call to 'print'\n"
     ]
    }
   ],
   "source": [
    "df = pd.DataFrame(columns=['verb', 'frame', 'frame_freq', 'verb_freq', 'freq_ratio'], data=list(zip(*[\n",
    "  ['van', 'van', 'néz', 'néz', 'rá+néz', 'rá+néz'],\n",
    "  ['@', 'NP<CAS<DAT>>', 'NP<CAS<ACC>>_NP<CAS<DAT>>', 'NP<CAS<SBL>>', 'NP<CAS<SBL>>', 'NP<CAS<INS>>'],\n",
    "  [362298, 56905, 356, 2752, 216, 34],\n",
    "  [908829] * 2 + [19461] * 2 + [586] * 2,\n",
    "  [0.398643, 0.062614, 0.0182929962489, 0.141411027183, 0.368600682594, 0.0580204778157]\n",
    "])))\n",
    "\n",
    "print df\n",
    "df"
   ]
  },
  {
   "cell_type": "markdown",
   "metadata": {},
   "source": [
    "Now this frame is rather small, but the whole dataset has 1158484 rows. If we tried to print it, it might be too much for the browser; and even if not, it would certainly make our notebook useless. So let's just have a look at the first few lines! You can do it with the `head()` function (there is a `tail()` as well):"
   ]
  },
  {
   "cell_type": "code",
   "execution_count": 82,
   "metadata": {
    "collapsed": false
   },
   "outputs": [
    {
     "name": "stdout",
     "output_type": "stream",
     "text": [
      "  verb                      frame  frame_freq  verb_freq  freq_ratio\n",
      "0  van                          @      362298     908829    0.398643\n",
      "1  van               NP<CAS<DAT>>       56905     908829    0.062614\n",
      "2  néz  NP<CAS<ACC>>_NP<CAS<DAT>>         356      19461    0.018293 \n",
      "\n",
      "     verb         frame  frame_freq  verb_freq  freq_ratio\n",
      "5  rá+néz  NP<CAS<INS>>          34        586     0.05802\n"
     ]
    }
   ],
   "source": [
    "print(df.head(3), '\\n')\n",
    "print(df.tail(1))"
   ]
  },
  {
   "cell_type": "markdown",
   "metadata": {},
   "source": [
    "***Note:*** As you can see, there is an index column in the table, which counts up from 0. It is possible to specify your own index; we will see examples for it later."
   ]
  },
  {
   "cell_type": "markdown",
   "metadata": {},
   "source": [
    "### Series\n",
    "\n",
    "A row or column of a `DataFrame` is called a `Series`. You can select columns of a `DataFrame` with simple indexing:\n",
    "1. `df['frame']` or `df.icol(1)` selects the second column and returns a `Series`\n",
    "1. `df[['verb', 'frame']]` selects the first two and returns a two-column `DateFrame` (note the `[[]]`: we index with the _list_ (`['verb', 'frame']`))"
   ]
  },
  {
   "cell_type": "code",
   "execution_count": 83,
   "metadata": {
    "collapsed": false
   },
   "outputs": [
    {
     "name": "stdout",
     "output_type": "stream",
     "text": [
      "A series:\n",
      "0                            @\n",
      "1                 NP<CAS<DAT>>\n",
      "2    NP<CAS<ACC>>_NP<CAS<DAT>>\n",
      "3                 NP<CAS<SBL>>\n",
      "4                 NP<CAS<SBL>>\n",
      "5                 NP<CAS<INS>>\n",
      "Name: frame, dtype: object\n",
      "\n",
      "A data frame:\n",
      "     verb                      frame\n",
      "0     van                          @\n",
      "1     van               NP<CAS<DAT>>\n",
      "2     néz  NP<CAS<ACC>>_NP<CAS<DAT>>\n",
      "3     néz               NP<CAS<SBL>>\n",
      "4  rá+néz               NP<CAS<SBL>>\n",
      "5  rá+néz               NP<CAS<INS>>\n"
     ]
    }
   ],
   "source": [
    "print('A series:\\n{}\\n'.format(df['frame']))\n",
    "print('A data frame:\\n{}'.format(df[['verb' ,'frame']]))"
   ]
  },
  {
   "cell_type": "markdown",
   "metadata": {},
   "source": [
    "Rows can be indexed by\n",
    "1. `df.iloc[2]` or `df.irow(2)` selects the third row\n",
    "1. `df.loc[2]` selects the row whose index is `2`; in this case, it is the same as the last one, but remember -- an index can be anything.\n",
    "\n",
    "As with columns, you can select more rows, e.g. `df.iloc[[1, 2]]` returns a two-row `DataFrame`.\n",
    "\n",
    "***Note:*** all the above indexing schemes work on `Series`."
   ]
  },
  {
   "cell_type": "code",
   "execution_count": 84,
   "metadata": {
    "collapsed": false
   },
   "outputs": [
    {
     "name": "stdout",
     "output_type": "stream",
     "text": [
      "A row:\n",
      "verb                                néz\n",
      "frame         NP<CAS<ACC>>_NP<CAS<DAT>>\n",
      "frame_freq                          356\n",
      "verb_freq                         19461\n",
      "freq_ratio                     0.018293\n",
      "Name: 2, dtype: object\n",
      "\n"
     ]
    }
   ],
   "source": [
    "print('A row:\\n{}\\n'.format(df.loc[2]))"
   ]
  },
  {
   "cell_type": "markdown",
   "metadata": {},
   "source": [
    "### Filtering\n",
    "\n",
    "There exists a data-driven way of selecting rows: filtering. We can set a condition for all rows, which will return a `Series` that tells us which rows satisfy the condition, and which do not:\n"
   ]
  },
  {
   "cell_type": "code",
   "execution_count": 85,
   "metadata": {
    "collapsed": false
   },
   "outputs": [
    {
     "name": "stdout",
     "output_type": "stream",
     "text": [
      "0     True\n",
      "1     True\n",
      "2    False\n",
      "3     True\n",
      "4    False\n",
      "5    False\n",
      "Name: frame_freq, dtype: bool\n"
     ]
    },
    {
     "data": {
      "text/html": [
       "<div>\n",
       "<table border=\"1\" class=\"dataframe\">\n",
       "  <thead>\n",
       "    <tr style=\"text-align: right;\">\n",
       "      <th></th>\n",
       "      <th>verb</th>\n",
       "      <th>frame</th>\n",
       "      <th>frame_freq</th>\n",
       "      <th>verb_freq</th>\n",
       "      <th>freq_ratio</th>\n",
       "    </tr>\n",
       "  </thead>\n",
       "  <tbody>\n",
       "    <tr>\n",
       "      <th>0</th>\n",
       "      <td>van</td>\n",
       "      <td>@</td>\n",
       "      <td>362298</td>\n",
       "      <td>908829</td>\n",
       "      <td>0.398643</td>\n",
       "    </tr>\n",
       "    <tr>\n",
       "      <th>1</th>\n",
       "      <td>van</td>\n",
       "      <td>NP&lt;CAS&lt;DAT&gt;&gt;</td>\n",
       "      <td>56905</td>\n",
       "      <td>908829</td>\n",
       "      <td>0.062614</td>\n",
       "    </tr>\n",
       "    <tr>\n",
       "      <th>3</th>\n",
       "      <td>néz</td>\n",
       "      <td>NP&lt;CAS&lt;SBL&gt;&gt;</td>\n",
       "      <td>2752</td>\n",
       "      <td>19461</td>\n",
       "      <td>0.141411</td>\n",
       "    </tr>\n",
       "  </tbody>\n",
       "</table>\n",
       "</div>"
      ],
      "text/plain": [
       "  verb         frame  frame_freq  verb_freq  freq_ratio\n",
       "0  van             @      362298     908829    0.398643\n",
       "1  van  NP<CAS<DAT>>       56905     908829    0.062614\n",
       "3  néz  NP<CAS<SBL>>        2752      19461    0.141411"
      ]
     },
     "execution_count": 85,
     "metadata": {},
     "output_type": "execute_result"
    }
   ],
   "source": [
    "# Selecting all rows where the frame count is at least 2000\n",
    "print(df.frame_freq >= 2000)\n",
    "# In order to actually select the rows, we just do; this will keep only the rows where the condition is True\n",
    "df[df.frame_freq >= 2000]"
   ]
  },
  {
   "cell_type": "markdown",
   "metadata": {},
   "source": [
    "### Grouping\n",
    "\n",
    "In our table, we have 3 unique verbs. What if we want to aggregate all the rows that pertain to the same word (e.g. average `freq_ratio`, number of different frame configurations)? That is where grouping comes into the picture. The [`groupby()`](http://pandas.pydata.org/pandas-docs/stable/generated/pandas.DataFrame.groupby.html#pandas.DataFrame.groupby) function groups the rows by the specified column, and returns a [`GroupyBy`](http://pandas.pydata.org/pandas-docs/stable/api.html#groupby) object. The aggregation methods are defined on this object; below are the implementations of the two examples above."
   ]
  },
  {
   "cell_type": "code",
   "execution_count": 89,
   "metadata": {
    "collapsed": false
   },
   "outputs": [
    {
     "name": "stdout",
     "output_type": "stream",
     "text": [
      "Number of frame configurations\n",
      "\n",
      "        frame  frame_freq  verb_freq  freq_ratio\n",
      "verb                                            \n",
      "néz         2           2          2           2\n",
      "rá+néz      2           2          2           2\n",
      "van         2           2          2           2\n",
      "\n",
      "Average of the the freq_ratio\n",
      "\n",
      "        frame_freq  verb_freq  freq_ratio\n",
      "verb                                     \n",
      "néz           1554      19461    0.079852\n",
      "rá+néz         125        586    0.213311\n",
      "van         209601     908829    0.230629\n",
      "\n"
     ]
    }
   ],
   "source": [
    "groups = df.groupby(df.verb)\n",
    "print('Number of frame configurations\\n\\n{}\\n'.format(groups.count()))\n",
    "print('Average of the the freq_ratio\\n\\n{}\\n'.format(groups.mean()))"
   ]
  },
  {
   "cell_type": "markdown",
   "metadata": {},
   "source": [
    "We can spot two interesting things here.\n",
    "\n",
    "**First**, the verb is not part of the columns anymore. This is because it is now the **index** of the new data frame. Now we can e.g. select rows by the verb with `loc()`: `gmeans.loc['néz']`. However, if you would like `verb` to be a regular column again, you can do that; see below:"
   ]
  },
  {
   "cell_type": "code",
   "execution_count": 72,
   "metadata": {
    "collapsed": false
   },
   "outputs": [
    {
     "name": "stdout",
     "output_type": "stream",
     "text": [
      "We can specify a column (or a set thereof) as a the index with set_index()...:\n",
      "\n",
      "                            frame  frame_freq  verb_freq  freq_ratio\n",
      "verb                                                                \n",
      "van                             @      362298     908829    0.398643\n",
      "van                  NP<CAS<DAT>>       56905     908829    0.062614\n",
      "néz     NP<CAS<ACC>>_NP<CAS<DAT>>         356      19461    0.018293\n",
      "néz                  NP<CAS<SBL>>        2752      19461    0.141411\n",
      "rá+néz               NP<CAS<SBL>>         216        586    0.368601\n",
      "rá+néz               NP<CAS<INS>>          34        586    0.058020\n",
      "\n",
      "... and we can convert the index back to a column with reset_index():\n",
      "\n",
      "     verb                      frame  frame_freq  verb_freq  freq_ratio\n",
      "0     van                          @      362298     908829    0.398643\n",
      "1     van               NP<CAS<DAT>>       56905     908829    0.062614\n",
      "2     néz  NP<CAS<ACC>>_NP<CAS<DAT>>         356      19461    0.018293\n",
      "3     néz               NP<CAS<SBL>>        2752      19461    0.141411\n",
      "4  rá+néz               NP<CAS<SBL>>         216        586    0.368601\n",
      "5  rá+néz               NP<CAS<INS>>          34        586    0.058020\n"
     ]
    }
   ],
   "source": [
    "indexed_df = df.set_index('verb')\n",
    "print('We can specify a column (or a set thereof) as a the index with set_index()...:\\n\\n{}\\n'.format(indexed_df))\n",
    "print('... and we can convert the index back to a column with reset_index():\\n\\n{}'.format(indexed_df.reset_index()))"
   ]
  },
  {
   "cell_type": "markdown",
   "metadata": {},
   "source": [
    "**Second**, the `mean()` and `count()` functions ran on all columns, not just the one(s) we were interested in. In order to get only the mean of the `freq_ratio`, we just need to tell Pandas we only need that column. Both solution below will work (what is the difference?)."
   ]
  },
  {
   "cell_type": "code",
   "execution_count": 96,
   "metadata": {
    "collapsed": false
   },
   "outputs": [
    {
     "data": {
      "text/plain": [
       "verb\n",
       "néz       0.079852\n",
       "rá+néz    0.213311\n",
       "van       0.230629\n",
       "Name: freq_ratio, dtype: float64"
      ]
     },
     "execution_count": 96,
     "metadata": {},
     "output_type": "execute_result"
    }
   ],
   "source": [
    "df[['verb', 'freq_ratio']].groupby('verb').mean()  # This is actually a DataFrame with a single column\n",
    "df.groupby('verb').mean()['freq_ratio']            # This is a Series"
   ]
  },
  {
   "cell_type": "markdown",
   "metadata": {},
   "source": [
    "## A few examples\n",
    "\n",
    "To give you an idea of Pandas in action, this section lists a few examples, in which we extract various statistics from the data. Let's dig in!"
   ]
  },
  {
   "cell_type": "markdown",
   "metadata": {},
   "source": [
    "### How many different verbs are in the corpus?\n",
    "\n",
    "In other words, the number of unique elements in column one (`verb`). There are several ways to find it out:\n",
    "\n",
    "1. Have Pandas [`describe()`](http://pandas.pydata.org/pandas-docs/stable/generated/pandas.Series.describe.html) the column for you. What it shows depends on the type of the column; for strings, the description will have a `unique` field. What do you think the other fields mean?\n",
    "2. Just call the [`unique()`](http://pandas.pydata.org/pandas-docs/stable/generated/pandas.Series.unique.html) function on the column. This returns an array of all the unique elements; all you need is to take the length of the array.\n",
    "3. Or just do (2) in a single step with [`nunique()`](http://pandas.pydata.org/pandas-docs/stable/generated/pandas.Series.nunique.html)."
   ]
  },
  {
   "cell_type": "code",
   "execution_count": 97,
   "metadata": {
    "collapsed": false
   },
   "outputs": [
    {
     "name": "stdout",
     "output_type": "stream",
     "text": [
      "describe()-based solution:\n",
      "\n",
      "count       6\n",
      "unique      3\n",
      "top       néz\n",
      "freq        2\n",
      "Name: verb, dtype: object \n",
      "\n",
      "Unique only:  3 \n",
      "\n",
      "\n",
      "unique()-based solution: 3 \n",
      "\n",
      "\n",
      "nunique()-based solution: 3\n"
     ]
    }
   ],
   "source": [
    "print('describe()-based solution:\\n')    # \\n means new line (i.e. Enter, Return, etc.)\n",
    "desc = df.verb.describe()\n",
    "print(desc, '\\n')\n",
    "print('Unique only: ', desc['unique'], '\\n\\n')\n",
    "\n",
    "print('unique()-based solution:', len(df.verb.unique()), '\\n\\n')\n",
    "print('nunique()-based solution:', df.verb.nunique())"
   ]
  },
  {
   "cell_type": "markdown",
   "metadata": {},
   "source": [
    "### In all, how many frames did we extract from our corpus?\n",
    "\n",
    "Once again, there are different ways of doing this; for instance:\n",
    "\n",
    "1. Sum the frame counts of all the different verb-frame pairs.\n",
    "2. Notice that if we sum up the frame counts, we get the verb frequency. So we need only `sum()` the verb frequencies for each word. Now, this way is a bit longer:\n",
    "  1. First, we do not need to work on the whole table, only the verbs and their counts; therefore, we extract these two columns to a new table.\n",
    "  2. Then, we group this new table by the verbs; this gives us a [`Groupby`](http://pandas.pydata.org/pandas-docs/stable/api.html#groupby) object\n",
    "  3. Since the verb frequencies are the same in all rows for a verb, we only need the `first()` row in each group\n",
    "  4. Finally, we can `sum()` the filtered column..."
   ]
  },
  {
   "cell_type": "code",
   "execution_count": 41,
   "metadata": {
    "collapsed": false
   },
   "outputs": [
    {
     "name": "stdout",
     "output_type": "stream",
     "text": [
      "Sum of frame counts:  9966153\n",
      "Sum of verb counts:  9966153\n"
     ]
    }
   ],
   "source": [
    "print('Sum of frame counts: ', df.frame_freq.sum())\n",
    "\n",
    "df_verb_and_freq = df[['verb', 'verb_freq']]\n",
    "verb_and_freq_groups = df_verb_and_freq.groupby('verb')  # verb -> [verb_freq, verb_freq, verb_freq, ...]\n",
    "verb_freqs = verb_and_freq_groups.first()                # verb -> verb_freq\n",
    "\n",
    "print('Sum of verb counts: ', verb_freqs.verb_freq.sum())\n",
    "\n",
    "# This works too: df[['verb', 'verb_freq']].groupby('verb').first().verb_freq.sum()"
   ]
  }
 ],
 "metadata": {
  "kernelspec": {
   "display_name": "Python 3",
   "language": "python",
   "name": "python3"
  },
  "language_info": {
   "codemirror_mode": {
    "name": "ipython",
    "version": 3
   },
   "file_extension": ".py",
   "mimetype": "text/x-python",
   "name": "python",
   "nbconvert_exporter": "python",
   "pygments_lexer": "ipython3",
   "version": "3.4.3"
  }
 },
 "nbformat": 4,
 "nbformat_minor": 0
}
